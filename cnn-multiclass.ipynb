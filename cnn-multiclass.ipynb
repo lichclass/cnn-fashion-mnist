{
 "cells": [
  {
   "cell_type": "markdown",
   "id": "984726f6-c3c4-4489-b794-7c6944c0fcf7",
   "metadata": {},
   "source": [
    "# Fashion MNIST Dataset\n",
    "### Applying Convolutional Neural Network (CNN) to the Fashion MNIST Dataset "
   ]
  },
  {
   "cell_type": "markdown",
   "id": "459b8347-c943-42b6-ad0c-20f0de1c03df",
   "metadata": {},
   "source": [
    "#### I. Required Libraries"
   ]
  },
  {
   "cell_type": "code",
   "execution_count": 1,
   "id": "0f6e5f2c-5eea-4750-92eb-137fd6e6a683",
   "metadata": {},
   "outputs": [
    {
     "name": "stderr",
     "output_type": "stream",
     "text": [
      "/Users/lichclass/Library/Python/3.9/lib/python/site-packages/urllib3/__init__.py:35: NotOpenSSLWarning: urllib3 v2 only supports OpenSSL 1.1.1+, currently the 'ssl' module is compiled with 'LibreSSL 2.8.3'. See: https://github.com/urllib3/urllib3/issues/3020\n",
      "  warnings.warn(\n"
     ]
    }
   ],
   "source": [
    "import tensorflow as tf\n",
    "from tensorflow.keras.layers import Dense, Input\n",
    "from tensorflow.keras import Sequential"
   ]
  },
  {
   "cell_type": "code",
   "execution_count": null,
   "id": "678ca2e3-a7e3-4f11-9990-4d6bb15f92c4",
   "metadata": {},
   "outputs": [],
   "source": []
  }
 ],
 "metadata": {
  "kernelspec": {
   "display_name": "Python 3 (ipykernel)",
   "language": "python",
   "name": "python3"
  },
  "language_info": {
   "codemirror_mode": {
    "name": "ipython",
    "version": 3
   },
   "file_extension": ".py",
   "mimetype": "text/x-python",
   "name": "python",
   "nbconvert_exporter": "python",
   "pygments_lexer": "ipython3",
   "version": "3.9.6"
  }
 },
 "nbformat": 4,
 "nbformat_minor": 5
}
